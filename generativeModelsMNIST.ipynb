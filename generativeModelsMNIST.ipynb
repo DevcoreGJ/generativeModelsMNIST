{
  "cells": [
    {
      "cell_type": "code",
<<<<<<< HEAD
      "execution_count": 115,
=======
      "execution_count": 1,
>>>>>>> 464b187e0437fe401fe272709955b97f04a1353e
      "metadata": {
        "id": "gmYqeSih338l"
      },
      "outputs": [],
      "source": [
        "import numpy as np\n",
        "import pandas as pd\n",
        "import matplotlib.pyplot as plt\n",
        "from sklearn.decomposition import PCA\n",
        "#from keras.preprocessing.image import ImageDataGenerator\n",
        "from sklearn.model_selection import train_test_split\n",
        "from sklearn.naive_bayes import GaussianNB\n",
        "from sklearn.neighbors import KNeighborsClassifier\n",
        "from sklearn.metrics import accuracy_score\n",
        "from scipy.stats import multivariate_normal as mvn"
      ]
    },
    {
      "cell_type": "code",
<<<<<<< HEAD
      "execution_count": 116,
=======
      "execution_count": 2,
>>>>>>> 464b187e0437fe401fe272709955b97f04a1353e
      "metadata": {
        "id": "C0XFPXoI4Sym"
      },
      "outputs": [],
      "source": [
        "# Load the data from the CSV file into a numpy array\n",
        "data = pd.read_csv('/content/sample_data/mnist_train_small.csv')"
      ]
    },
    {
      "cell_type": "code",
<<<<<<< HEAD
      "execution_count": 117,
=======
      "execution_count": 3,
>>>>>>> 464b187e0437fe401fe272709955b97f04a1353e
      "metadata": {
        "colab": {
          "base_uri": "https://localhost:8080/"
        },
        "id": "VRQtKcTQ5n9e",
<<<<<<< HEAD
        "outputId": "e57959d6-3d53-417b-b1cb-851cc304759c"
=======
        "outputId": "e3b45c9e-afda-4c68-b101-936f906aa93e"
>>>>>>> 464b187e0437fe401fe272709955b97f04a1353e
      },
      "outputs": [
        {
          "output_type": "stream",
          "name": "stdout",
          "text": [
            "<bound method DataFrame.info of        6  0  0.1  0.2  0.3  0.4  0.5  0.6  0.7  0.8  ...  0.581  0.582  0.583  \\\n",
            "0      5  0    0    0    0    0    0    0    0    0  ...      0      0      0   \n",
            "1      7  0    0    0    0    0    0    0    0    0  ...      0      0      0   \n",
            "2      9  0    0    0    0    0    0    0    0    0  ...      0      0      0   \n",
            "3      5  0    0    0    0    0    0    0    0    0  ...      0      0      0   \n",
            "4      2  0    0    0    0    0    0    0    0    0  ...      0      0      0   \n",
            "...   .. ..  ...  ...  ...  ...  ...  ...  ...  ...  ...    ...    ...    ...   \n",
            "19994  0  0    0    0    0    0    0    0    0    0  ...      0      0      0   \n",
            "19995  1  0    0    0    0    0    0    0    0    0  ...      0      0      0   \n",
            "19996  2  0    0    0    0    0    0    0    0    0  ...      0      0      0   \n",
            "19997  9  0    0    0    0    0    0    0    0    0  ...      0      0      0   \n",
            "19998  5  0    0    0    0    0    0    0    0    0  ...      0      0      0   \n",
            "\n",
            "       0.584  0.585  0.586  0.587  0.588  0.589  0.590  \n",
            "0          0      0      0      0      0      0      0  \n",
            "1          0      0      0      0      0      0      0  \n",
            "2          0      0      0      0      0      0      0  \n",
            "3          0      0      0      0      0      0      0  \n",
            "4          0      0      0      0      0      0      0  \n",
            "...      ...    ...    ...    ...    ...    ...    ...  \n",
            "19994      0      0      0      0      0      0      0  \n",
            "19995      0      0      0      0      0      0      0  \n",
            "19996      0      0      0      0      0      0      0  \n",
            "19997      0      0      0      0      0      0      0  \n",
            "19998      0      0      0      0      0      0      0  \n",
            "\n",
            "[19999 rows x 785 columns]>\n"
          ]
        }
      ],
      "source": [
        "print(data.info)"
      ]
    },
    {
      "cell_type": "markdown",
      "metadata": {
        "id": "9yNgluJAEXuy"
      },
      "source": [
        "In this code, we first load the MNIST dataset using pandas library and extract the pixel values and labels into separate variables. Then, we normalize the pixel values by dividing them by 255.0, which scales them to a range between 0 and 1. Finally, we verify the normalization results by printing the minimum and maximum pixel values in the normalized dataset."
      ]
    },
    {
      "cell_type": "code",
<<<<<<< HEAD
      "execution_count": 118,
=======
      "execution_count": 4,
>>>>>>> 464b187e0437fe401fe272709955b97f04a1353e
      "metadata": {
        "id": "mobhadQE8qgn"
      },
      "outputs": [],
      "source": [
        "# Extract pixel values and labels\n",
        "X_train = data.iloc[:, 1:].values\n",
        "y_train = data.iloc[:, 0].values"
      ]
    },
    {
      "cell_type": "code",
<<<<<<< HEAD
      "execution_count": 119,
=======
      "execution_count": 22,
>>>>>>> 464b187e0437fe401fe272709955b97f04a1353e
      "metadata": {
        "id": "Zm75kJ_y-T20"
      },
      "outputs": [],
      "source": [
        "# Normalize pixel values\n",
        "X_train = X_train.astype('float32') / 255.0"
      ]
    },
    {
      "cell_type": "code",
<<<<<<< HEAD
      "execution_count": 120,
=======
      "execution_count": 23,
>>>>>>> 464b187e0437fe401fe272709955b97f04a1353e
      "metadata": {
        "colab": {
          "base_uri": "https://localhost:8080/"
        },
        "id": "wGvwzKF8-8TI",
<<<<<<< HEAD
        "outputId": "21f43960-05e3-40c4-db55-80a14c68cef2"
=======
        "outputId": "f7042299-5df0-4981-eb75-dc0d55d0701e"
>>>>>>> 464b187e0437fe401fe272709955b97f04a1353e
      },
      "outputs": [
        {
          "output_type": "stream",
          "name": "stdout",
          "text": [
            "Min pixel value: 0.0\n",
<<<<<<< HEAD
            "Max pixel value: 1.0\n"
=======
            "Max pixel value: 0.003921569\n"
>>>>>>> 464b187e0437fe401fe272709955b97f04a1353e
          ]
        }
      ],
      "source": [
        "# Verify the normalization results\n",
        "print('Min pixel value:', np.min(X_train))\n",
        "print('Max pixel value:', np.max(X_train))"
      ]
    },
    {
      "cell_type": "markdown",
      "metadata": {
        "id": "cPvnWS_AD1Iq"
      },
      "source": [
        "PCA stands for Principal Component Analysis.\n",
        "\n",
        "we use the PCA class from the sklearn.decomposition module to perform PCA with the n_components parameter set to 50. This means that the dimensionality of the data will be reduced to 50 features. The fit_transform method is then used to fit the PCA model to the data and transform it into the reduced feature space."
      ]
    },
    {
      "cell_type": "code",
<<<<<<< HEAD
      "execution_count": 121,
=======
      "execution_count": 7,
>>>>>>> 464b187e0437fe401fe272709955b97f04a1353e
      "metadata": {
        "id": "0uHLgwuxDTkZ"
      },
      "outputs": [],
      "source": [
        "# Perform PCA to reduce dimensionality\n",
        "pca = PCA(n_components=50)  # Set the number of components to keep\n",
        "X_train_pca = pca.fit_transform(X_train)"
      ]
    },
    {
      "cell_type": "code",
<<<<<<< HEAD
      "execution_count": 122,
=======
      "execution_count": 8,
>>>>>>> 464b187e0437fe401fe272709955b97f04a1353e
      "metadata": {
        "colab": {
          "base_uri": "https://localhost:8080/"
        },
        "id": "l_rQKddsDnoB",
<<<<<<< HEAD
        "outputId": "3f713179-bbd1-45da-f2f9-eb8206c7bc1c"
=======
        "outputId": "46b600e6-4a33-4150-e790-067d2499c29d"
>>>>>>> 464b187e0437fe401fe272709955b97f04a1353e
      },
      "outputs": [
        {
          "output_type": "stream",
          "name": "stdout",
          "text": [
            "Original shape: (19999, 784)\n",
            "Reduced shape: (19999, 50)\n"
          ]
        }
      ],
      "source": [
        "# Verify the results\n",
        "print('Original shape:', X_train.shape)\n",
        "print('Reduced shape:', X_train_pca.shape)"
      ]
    },
    {
      "cell_type": "markdown",
      "metadata": {
        "id": "tDcyFFY0Kyc5"
      },
      "source": [
        "The next step would be to split the dataset into training and validation sets and then implement the Bayes Classifier."
      ]
    },
    {
      "cell_type": "markdown",
<<<<<<< HEAD
      "metadata": {
        "id": "loXkkc4Dwawh"
      },
      "source": [
        "#Train the data (The Hard Way)"
      ]
    },
    {
      "cell_type": "markdown",
      "metadata": {
        "id": "ZbBWf4DXxucW"
      },
      "source": [
        "## Bayes Classifier"
      ]
    },
    {
      "cell_type": "code",
      "execution_count": 123,
      "metadata": {
        "id": "3sKjn7L1whNL"
      },
      "outputs": [],
      "source": [
        "# Train a Naive Bayes classifier\n",
        "class_means = np.zeros((10, X_train_pca.shape[1]))\n",
        "class_vars = np.zeros((10, X_train_pca.shape[1]))\n",
        "class_counts = np.zeros(10)"
      ]
    },
    {
      "cell_type": "code",
      "execution_count": 128,
      "metadata": {
        "id": "buTPQdfJwvfc"
      },
      "outputs": [],
=======
      "source": [
        "#Train the data (The Hard Way)"
      ],
      "metadata": {
        "id": "loXkkc4Dwawh"
      }
    },
    {
      "cell_type": "markdown",
      "source": [
        "## Bayes Classifier"
      ],
      "metadata": {
        "id": "ZbBWf4DXxucW"
      }
    },
    {
      "cell_type": "code",
      "source": [
        "# Train a Naive Bayes classifier\n",
        "class_means = np.zeros((10, X_train.shape[1]))\n",
        "class_vars = np.zeros((10, X_train.shape[1]))\n",
        "class_counts = np.zeros(10)"
      ],
      "metadata": {
        "id": "3sKjn7L1whNL"
      },
      "execution_count": 9,
      "outputs": []
    },
    {
      "cell_type": "code",
>>>>>>> 464b187e0437fe401fe272709955b97f04a1353e
      "source": [
        "class GaussNB:\n",
        "    \n",
        "    def __init__(self, epsilon=1e-6):\n",
        "        self.epsilon = epsilon\n",
        "    \n",
<<<<<<< HEAD
        "    def fit(self, X_train_pca, y_train):\n",
=======
        "    def fit(self, X_train, y_train):\n",
>>>>>>> 464b187e0437fe401fe272709955b97f04a1353e
        "        self.likelihood = {}\n",
        "        self.priors = {}\n",
        "        self.classes = set(y_train.astype(int))\n",
        "        for class_label in self.classes:\n",
<<<<<<< HEAD
        "            X_class = X_train_pca[y_train == class_label, :]\n",
        "            self.likelihood[class_label] = {\"mean\": X_class.mean(axis=0), \"cov\": np.cov(X_class.T) + self.epsilon * np.eye(X_train_pca.shape[1])}\n",
        "            self.priors[class_label] = len(X_class) / len(X_train_pca)\n",
=======
        "            X_class = X_train[y_train == class_label, :]\n",
        "            self.likelihood[class_label] = {\"mean\": X_class.mean(axis=0), \"cov\": np.cov(X_class.T) + self.epsilon * np.eye(X_train.shape[1])}\n",
        "            self.priors[class_label] = len(X_class) / len(X_train)\n",
>>>>>>> 464b187e0437fe401fe272709955b97f04a1353e
        "              \n",
        "    def predict(self, X_val):\n",
        "        N, D = X_val.shape\n",
        "        P_hat = np.zeros((N, len(self.classes)))\n",
        "        for class_label, likelihood in self.likelihood.items():\n",
        "            P_hat[:, class_label] = multivariate_normal.logpdf(X_val, likelihood[\"mean\"], likelihood[\"cov\"]) + np.log(self.priors[class_label])\n",
        "        return P_hat.argmax(axis=1)\n"
<<<<<<< HEAD
      ]
    },
    {
      "cell_type": "code",
      "execution_count": 129,
      "metadata": {
        "id": "zjx_k0BzxzsH"
      },
      "outputs": [],
=======
      ],
      "metadata": {
        "id": "buTPQdfJwvfc"
      },
      "execution_count": 10,
      "outputs": []
    },
    {
      "cell_type": "code",
>>>>>>> 464b187e0437fe401fe272709955b97f04a1353e
      "source": [
        "def check_handwriting(str1, str2):\n",
        "    str1 = str1.lower().replace(\" \", \"\")\n",
        "    str2 = str2.lower().replace(\" \", \"\")\n",
        "    \n",
        "    if len(str1) != len(str2):\n",
        "        return False\n",
        "    \n",
        "    char_count = {}\n",
        "    for char in str1:\n",
        "        char_count[char] = char_count.get(char, 0) + 1\n",
        "    \n",
        "    for char in str2:\n",
        "        if char not in char_count or char_count[char] == 0:\n",
        "            return False\n",
        "        char_count[char] -= 1\n",
        "        \n",
        "    return True"
<<<<<<< HEAD
      ]
    },
    {
      "cell_type": "code",
      "execution_count": 130,
      "metadata": {
        "id": "RZcTZhUj1cll"
      },
      "outputs": [],
      "source": [
        "gnb = GaussianNB()"
      ]
    },
    {
      "cell_type": "code",
      "execution_count": 134,
      "metadata": {
        "id": "FD8OFLac1d8T"
      },
      "outputs": [],
      "source": [
        "gnb.fit(X_train_pca, y_train)\n",
        "y_hat_train = gnb.predict(X_train_pca)\n",
        "acc = accuracy_score(y_train, y_hat)"
      ]
    },
    {
      "cell_type": "code",
      "execution_count": 135,
      "metadata": {
        "id": "kmXdhww_2SFa"
      },
      "outputs": [],
      "source": [
        "y_hat = gnb.predict(X_train_pca)"
      ]
    },
    {
      "cell_type": "code",
      "execution_count": 136,
      "metadata": {
        "id": "t2CaMKIU2ZAU"
      },
      "outputs": [],
      "source": [
        "acc = accuracy_score(y_train, y_hat)"
      ]
    },
    {
      "cell_type": "code",
      "execution_count": null,
=======
      ],
      "metadata": {
        "id": "zjx_k0BzxzsH"
      },
      "execution_count": 11,
      "outputs": []
    },
    {
      "cell_type": "code",
      "source": [
        "gnb = GaussianNB()"
      ],
      "metadata": {
        "id": "RZcTZhUj1cll"
      },
      "execution_count": 12,
      "outputs": []
    },
    {
      "cell_type": "code",
      "source": [
        "gnb.fit(X_train, y_train)\n",
        "y_hat_train = gnb.predict(X_train)\n",
        "acc = accuracy_score(y_train, y_hat_train)"
      ],
      "metadata": {
        "id": "FD8OFLac1d8T"
      },
      "execution_count": 15,
      "outputs": []
    },
    {
      "cell_type": "code",
      "source": [
        "y_hat = gnb.predict(X_train)"
      ],
      "metadata": {
        "id": "kmXdhww_2SFa"
      },
      "execution_count": 14,
      "outputs": []
    },
    {
      "cell_type": "code",
      "source": [
        "acc = accuracy_score(y_train, y_hat)"
      ],
      "metadata": {
        "id": "t2CaMKIU2ZAU"
      },
      "execution_count": 17,
      "outputs": []
    },
    {
      "cell_type": "code",
      "source": [
        "print(acc)"
      ],
>>>>>>> 464b187e0437fe401fe272709955b97f04a1353e
      "metadata": {
        "colab": {
          "base_uri": "https://localhost:8080/"
        },
        "id": "nDUcMbvy53P7",
<<<<<<< HEAD
        "outputId": "ccaa6613-3a9c-4b1a-b4e9-5284df8d042f"
      },
=======
        "outputId": "5f5dbc3a-5f1f-4188-8c15-1e79788e54b8"
      },
      "execution_count": 18,
>>>>>>> 464b187e0437fe401fe272709955b97f04a1353e
      "outputs": [
        {
          "output_type": "stream",
          "name": "stdout",
          "text": [
<<<<<<< HEAD
            "0.8714935746787339\n"
          ]
        }
      ],
      "source": [
        "print(acc)"
=======
            "0.5743787189359468\n"
          ]
        }
>>>>>>> 464b187e0437fe401fe272709955b97f04a1353e
      ]
    },
    {
      "cell_type": "markdown",
<<<<<<< HEAD
      "metadata": {
        "id": "jSdqfZDe9Aq_"
      },
      "source": [
        "##KNN"
      ]
    },
    {
      "cell_type": "code",
      "execution_count": 137,
      "metadata": {
        "id": "gSq1gRnoSztC"
      },
      "outputs": [],
=======
      "source": [
        "##KNN"
      ],
      "metadata": {
        "id": "jSdqfZDe9Aq_"
      }
    },
    {
      "cell_type": "code",
      "source": [],
      "metadata": {
        "id": "q57Pl9eL9EAx"
      },
      "execution_count": null,
      "outputs": []
    },
    {
      "cell_type": "code",
>>>>>>> 464b187e0437fe401fe272709955b97f04a1353e
      "source": [
        "class KNNClassifier():\n",
        "\n",
        "  def fit(self, X, y):\n",
        "    self.X = X\n",
        "    self.y = y\n",
        "\n",
        "\n",
        "  def predict(self, X, K, epsilon = 1e-3):\n",
        "    N = len(X)\n",
        "    y_hat = np.zeros(N)\n",
        "\n",
        "    for i in range(N):\n",
        "      dist2 = np.sum((self.X-X[i])**2,axis=1)\n",
        "      idxt  = np.argsort(dist2)[:K]\n",
        "      gamma_k=1/(np.sqrt(dist2[idxt]+epsilon))\n",
        "      y_hat[i] = np.bincount(self.y[idxt], weights=gamma_k).argmax()\n",
        "\n",
        "\n",
        "    return y_hat"
<<<<<<< HEAD
      ]
    },
    {
      "cell_type": "code",
      "execution_count": 144,
      "metadata": {
        "id": "um_Gy6z89J8_"
      },
      "outputs": [],
      "source": [
        "# create an instance of the class\n",
        "knn = KNNClassifier()"
      ]
    },
    {
      "cell_type": "code",
      "execution_count": 145,
      "metadata": {
        "id": "_UHn4-Em9Lio"
      },
      "outputs": [],
      "source": [
        "# train the classifier on the training data\n",
        "knn.fit(X_train_pca, y_train)"
      ]
=======
      ],
      "metadata": {
        "id": "gSq1gRnoSztC"
      },
      "execution_count": 33,
      "outputs": []
    },
    {
      "cell_type": "code",
      "source": [
        "# create an instance of the class\n",
        "knn = KNNClassifier()"
      ],
      "metadata": {
        "id": "um_Gy6z89J8_"
      },
      "execution_count": 34,
      "outputs": []
    },
    {
      "cell_type": "code",
      "source": [
        "# train the classifier on the training data\n",
        "knn.fit(X_train, y_train)"
      ],
      "metadata": {
        "id": "_UHn4-Em9Lio"
      },
      "execution_count": 35,
      "outputs": []
>>>>>>> 464b187e0437fe401fe272709955b97f04a1353e
    },
    {
      "cell_type": "code",
      "source": [
<<<<<<< HEAD
        "len(y_train)"
      ],
      "metadata": {
        "colab": {
          "base_uri": "https://localhost:8080/"
        },
        "id": "KIp3Zw-uyKBH",
        "outputId": "02fa6ebe-299a-44d1-a16d-99e224a6a69f"
      },
      "execution_count": null,
      "outputs": [
        {
          "output_type": "execute_result",
          "data": {
            "text/plain": [
              "12799"
            ]
          },
          "metadata": {},
          "execution_count": 78
        }
      ]
    },
    {
      "cell_type": "code",
      "source": [
        "X_train_pca.shape[0]"
      ],
      "metadata": {
        "colab": {
          "base_uri": "https://localhost:8080/"
        },
        "id": "EPuSosKTyQLT",
        "outputId": "7fee58e1-fc00-4a01-cfb7-b242f165d82f"
      },
      "execution_count": 146,
      "outputs": [
        {
          "output_type": "execute_result",
          "data": {
            "text/plain": [
              "19999"
            ]
          },
          "metadata": {},
          "execution_count": 146
        }
      ]
    },
    {
      "cell_type": "code",
      "source": [
        "np.array_equal(y_train, X_train_pca[:, -1])"
      ],
      "metadata": {
        "colab": {
          "base_uri": "https://localhost:8080/"
        },
        "id": "e_rulN3ryY9Q",
        "outputId": "ac19171d-0ff6-4b7f-87a4-83241641490a"
      },
      "execution_count": 147,
      "outputs": [
        {
          "output_type": "execute_result",
          "data": {
            "text/plain": [
              "False"
            ]
          },
          "metadata": {},
          "execution_count": 147
        }
      ]
    },
    {
      "cell_type": "code",
      "execution_count": null,
      "metadata": {
        "id": "gJAsQPMD9Nuk"
      },
      "outputs": [],
      "source": [
        "# make predictions on the validation data\n",
        "y_val = knn.predict(X_train_pca, 500)"
      ]
    },
    {
      "cell_type": "code",
      "execution_count": 152,
      "metadata": {
        "id": "64UXgNwR9PVD"
      },
      "outputs": [],
      "source": [
        "# evaluate the accuracy of the predictions\n",
        "accuracy = accuracy_score(y_train, y_val)"
      ]
    },
    {
      "cell_type": "code",
      "execution_count": 153,
      "metadata": {
        "colab": {
          "base_uri": "https://localhost:8080/"
        },
        "id": "irQ8BkV09Tvy",
        "outputId": "cd4b430e-9cb9-46e9-9760-61e3cd9e6c63"
      },
      "outputs": [
        {
          "output_type": "stream",
          "name": "stdout",
          "text": [
            "KNN accuracy: 1.0\n"
          ]
        }
      ],
      "source": [
        "print('KNN accuracy:', accuracy)"
      ]
=======
        "# make predictions on the validation data\n",
        "y_pred = knn.predict(X_val, K=5)"
      ],
      "metadata": {
        "id": "gJAsQPMD9Nuk"
      },
      "execution_count": null,
      "outputs": []
    },
    {
      "cell_type": "code",
      "source": [
        "# evaluate the accuracy of the predictions\n",
        "accuracy = accuracy_score(y_val, y_pred)"
      ],
      "metadata": {
        "id": "64UXgNwR9PVD"
      },
      "execution_count": null,
      "outputs": []
    },
    {
      "cell_type": "code",
      "source": [
        "print('KNN accuracy:', accuracy)"
      ],
      "metadata": {
        "id": "irQ8BkV09Tvy"
      },
      "execution_count": null,
      "outputs": []
>>>>>>> 464b187e0437fe401fe272709955b97f04a1353e
    },
    {
      "cell_type": "markdown",
      "metadata": {
        "id": "wzXHpF1SK4bd"
      },
      "source": [
        "# Train the Data (The Easy Way)"
      ]
    },
    {
      "cell_type": "markdown",
<<<<<<< HEAD
      "metadata": {
        "id": "nFlaBQdo72VZ"
      },
      "source": [
        "##Split the data"
      ]
    },
    {
      "cell_type": "code",
      "execution_count": null,
=======
      "source": [
        "##Split the data"
      ],
      "metadata": {
        "id": "nFlaBQdo72VZ"
      }
    },
    {
      "cell_type": "code",
      "execution_count": 24,
>>>>>>> 464b187e0437fe401fe272709955b97f04a1353e
      "metadata": {
        "id": "HjOeOgwaKgUu"
      },
      "outputs": [],
      "source": [
        "# Split the dataset into training and validation sets\n",
        "X_train, X_val, y_train, y_val = train_test_split(X_train, y_train, test_size=0.2, random_state=42)"
      ]
    },
    {
<<<<<<< HEAD
      "cell_type": "markdown",
      "metadata": {
        "id": "Hru30UxtxY02"
      },
      "source": [
        "##Bayes Classifier"
      ]
    },
    {
      "cell_type": "code",
      "execution_count": null,
=======
      "cell_type": "code",
      "source": [],
      "metadata": {
        "id": "xmt4FvMN74rx"
      },
      "execution_count": null,
      "outputs": []
    },
    {
      "cell_type": "markdown",
      "source": [
        "##Bayes Classifier"
      ],
      "metadata": {
        "id": "Hru30UxtxY02"
      }
    },
    {
      "cell_type": "code",
      "execution_count": 25,
>>>>>>> 464b187e0437fe401fe272709955b97f04a1353e
      "metadata": {
        "id": "Yzc3e4NmLHsS"
      },
      "outputs": [],
      "source": [
        "# Create a Bayes classifier\n",
        "bayes = GaussianNB()"
      ]
    },
    {
      "cell_type": "code",
<<<<<<< HEAD
      "execution_count": null,
      "metadata": {
        "id": "5HVmMKRnLNbR",
=======
      "execution_count": 26,
      "metadata": {
>>>>>>> 464b187e0437fe401fe272709955b97f04a1353e
        "colab": {
          "base_uri": "https://localhost:8080/",
          "height": 75
        },
<<<<<<< HEAD
        "outputId": "06f5f83a-cd6b-4038-8a54-996f1dee7102"
=======
        "id": "5HVmMKRnLNbR",
        "outputId": "fc56feeb-8620-4a3b-9e9f-2258dd33161c"
>>>>>>> 464b187e0437fe401fe272709955b97f04a1353e
      },
      "outputs": [
        {
          "output_type": "execute_result",
          "data": {
            "text/plain": [
              "GaussianNB()"
            ],
            "text/html": [
<<<<<<< HEAD
              "<style>#sk-container-id-2 {color: black;background-color: white;}#sk-container-id-2 pre{padding: 0;}#sk-container-id-2 div.sk-toggleable {background-color: white;}#sk-container-id-2 label.sk-toggleable__label {cursor: pointer;display: block;width: 100%;margin-bottom: 0;padding: 0.3em;box-sizing: border-box;text-align: center;}#sk-container-id-2 label.sk-toggleable__label-arrow:before {content: \"▸\";float: left;margin-right: 0.25em;color: #696969;}#sk-container-id-2 label.sk-toggleable__label-arrow:hover:before {color: black;}#sk-container-id-2 div.sk-estimator:hover label.sk-toggleable__label-arrow:before {color: black;}#sk-container-id-2 div.sk-toggleable__content {max-height: 0;max-width: 0;overflow: hidden;text-align: left;background-color: #f0f8ff;}#sk-container-id-2 div.sk-toggleable__content pre {margin: 0.2em;color: black;border-radius: 0.25em;background-color: #f0f8ff;}#sk-container-id-2 input.sk-toggleable__control:checked~div.sk-toggleable__content {max-height: 200px;max-width: 100%;overflow: auto;}#sk-container-id-2 input.sk-toggleable__control:checked~label.sk-toggleable__label-arrow:before {content: \"▾\";}#sk-container-id-2 div.sk-estimator input.sk-toggleable__control:checked~label.sk-toggleable__label {background-color: #d4ebff;}#sk-container-id-2 div.sk-label input.sk-toggleable__control:checked~label.sk-toggleable__label {background-color: #d4ebff;}#sk-container-id-2 input.sk-hidden--visually {border: 0;clip: rect(1px 1px 1px 1px);clip: rect(1px, 1px, 1px, 1px);height: 1px;margin: -1px;overflow: hidden;padding: 0;position: absolute;width: 1px;}#sk-container-id-2 div.sk-estimator {font-family: monospace;background-color: #f0f8ff;border: 1px dotted black;border-radius: 0.25em;box-sizing: border-box;margin-bottom: 0.5em;}#sk-container-id-2 div.sk-estimator:hover {background-color: #d4ebff;}#sk-container-id-2 div.sk-parallel-item::after {content: \"\";width: 100%;border-bottom: 1px solid gray;flex-grow: 1;}#sk-container-id-2 div.sk-label:hover label.sk-toggleable__label {background-color: #d4ebff;}#sk-container-id-2 div.sk-serial::before {content: \"\";position: absolute;border-left: 1px solid gray;box-sizing: border-box;top: 0;bottom: 0;left: 50%;z-index: 0;}#sk-container-id-2 div.sk-serial {display: flex;flex-direction: column;align-items: center;background-color: white;padding-right: 0.2em;padding-left: 0.2em;position: relative;}#sk-container-id-2 div.sk-item {position: relative;z-index: 1;}#sk-container-id-2 div.sk-parallel {display: flex;align-items: stretch;justify-content: center;background-color: white;position: relative;}#sk-container-id-2 div.sk-item::before, #sk-container-id-2 div.sk-parallel-item::before {content: \"\";position: absolute;border-left: 1px solid gray;box-sizing: border-box;top: 0;bottom: 0;left: 50%;z-index: -1;}#sk-container-id-2 div.sk-parallel-item {display: flex;flex-direction: column;z-index: 1;position: relative;background-color: white;}#sk-container-id-2 div.sk-parallel-item:first-child::after {align-self: flex-end;width: 50%;}#sk-container-id-2 div.sk-parallel-item:last-child::after {align-self: flex-start;width: 50%;}#sk-container-id-2 div.sk-parallel-item:only-child::after {width: 0;}#sk-container-id-2 div.sk-dashed-wrapped {border: 1px dashed gray;margin: 0 0.4em 0.5em 0.4em;box-sizing: border-box;padding-bottom: 0.4em;background-color: white;}#sk-container-id-2 div.sk-label label {font-family: monospace;font-weight: bold;display: inline-block;line-height: 1.2em;}#sk-container-id-2 div.sk-label-container {text-align: center;}#sk-container-id-2 div.sk-container {/* jupyter's `normalize.less` sets `[hidden] { display: none; }` but bootstrap.min.css set `[hidden] { display: none !important; }` so we also need the `!important` here to be able to override the default hidden behavior on the sphinx rendered scikit-learn.org. See: https://github.com/scikit-learn/scikit-learn/issues/21755 */display: inline-block !important;position: relative;}#sk-container-id-2 div.sk-text-repr-fallback {display: none;}</style><div id=\"sk-container-id-2\" class=\"sk-top-container\"><div class=\"sk-text-repr-fallback\"><pre>GaussianNB()</pre><b>In a Jupyter environment, please rerun this cell to show the HTML representation or trust the notebook. <br />On GitHub, the HTML representation is unable to render, please try loading this page with nbviewer.org.</b></div><div class=\"sk-container\" hidden><div class=\"sk-item\"><div class=\"sk-estimator sk-toggleable\"><input class=\"sk-toggleable__control sk-hidden--visually\" id=\"sk-estimator-id-2\" type=\"checkbox\" checked><label for=\"sk-estimator-id-2\" class=\"sk-toggleable__label sk-toggleable__label-arrow\">GaussianNB</label><div class=\"sk-toggleable__content\"><pre>GaussianNB()</pre></div></div></div></div></div>"
            ]
          },
          "metadata": {},
          "execution_count": 43
=======
              "<style>#sk-container-id-3 {color: black;background-color: white;}#sk-container-id-3 pre{padding: 0;}#sk-container-id-3 div.sk-toggleable {background-color: white;}#sk-container-id-3 label.sk-toggleable__label {cursor: pointer;display: block;width: 100%;margin-bottom: 0;padding: 0.3em;box-sizing: border-box;text-align: center;}#sk-container-id-3 label.sk-toggleable__label-arrow:before {content: \"▸\";float: left;margin-right: 0.25em;color: #696969;}#sk-container-id-3 label.sk-toggleable__label-arrow:hover:before {color: black;}#sk-container-id-3 div.sk-estimator:hover label.sk-toggleable__label-arrow:before {color: black;}#sk-container-id-3 div.sk-toggleable__content {max-height: 0;max-width: 0;overflow: hidden;text-align: left;background-color: #f0f8ff;}#sk-container-id-3 div.sk-toggleable__content pre {margin: 0.2em;color: black;border-radius: 0.25em;background-color: #f0f8ff;}#sk-container-id-3 input.sk-toggleable__control:checked~div.sk-toggleable__content {max-height: 200px;max-width: 100%;overflow: auto;}#sk-container-id-3 input.sk-toggleable__control:checked~label.sk-toggleable__label-arrow:before {content: \"▾\";}#sk-container-id-3 div.sk-estimator input.sk-toggleable__control:checked~label.sk-toggleable__label {background-color: #d4ebff;}#sk-container-id-3 div.sk-label input.sk-toggleable__control:checked~label.sk-toggleable__label {background-color: #d4ebff;}#sk-container-id-3 input.sk-hidden--visually {border: 0;clip: rect(1px 1px 1px 1px);clip: rect(1px, 1px, 1px, 1px);height: 1px;margin: -1px;overflow: hidden;padding: 0;position: absolute;width: 1px;}#sk-container-id-3 div.sk-estimator {font-family: monospace;background-color: #f0f8ff;border: 1px dotted black;border-radius: 0.25em;box-sizing: border-box;margin-bottom: 0.5em;}#sk-container-id-3 div.sk-estimator:hover {background-color: #d4ebff;}#sk-container-id-3 div.sk-parallel-item::after {content: \"\";width: 100%;border-bottom: 1px solid gray;flex-grow: 1;}#sk-container-id-3 div.sk-label:hover label.sk-toggleable__label {background-color: #d4ebff;}#sk-container-id-3 div.sk-serial::before {content: \"\";position: absolute;border-left: 1px solid gray;box-sizing: border-box;top: 0;bottom: 0;left: 50%;z-index: 0;}#sk-container-id-3 div.sk-serial {display: flex;flex-direction: column;align-items: center;background-color: white;padding-right: 0.2em;padding-left: 0.2em;position: relative;}#sk-container-id-3 div.sk-item {position: relative;z-index: 1;}#sk-container-id-3 div.sk-parallel {display: flex;align-items: stretch;justify-content: center;background-color: white;position: relative;}#sk-container-id-3 div.sk-item::before, #sk-container-id-3 div.sk-parallel-item::before {content: \"\";position: absolute;border-left: 1px solid gray;box-sizing: border-box;top: 0;bottom: 0;left: 50%;z-index: -1;}#sk-container-id-3 div.sk-parallel-item {display: flex;flex-direction: column;z-index: 1;position: relative;background-color: white;}#sk-container-id-3 div.sk-parallel-item:first-child::after {align-self: flex-end;width: 50%;}#sk-container-id-3 div.sk-parallel-item:last-child::after {align-self: flex-start;width: 50%;}#sk-container-id-3 div.sk-parallel-item:only-child::after {width: 0;}#sk-container-id-3 div.sk-dashed-wrapped {border: 1px dashed gray;margin: 0 0.4em 0.5em 0.4em;box-sizing: border-box;padding-bottom: 0.4em;background-color: white;}#sk-container-id-3 div.sk-label label {font-family: monospace;font-weight: bold;display: inline-block;line-height: 1.2em;}#sk-container-id-3 div.sk-label-container {text-align: center;}#sk-container-id-3 div.sk-container {/* jupyter's `normalize.less` sets `[hidden] { display: none; }` but bootstrap.min.css set `[hidden] { display: none !important; }` so we also need the `!important` here to be able to override the default hidden behavior on the sphinx rendered scikit-learn.org. See: https://github.com/scikit-learn/scikit-learn/issues/21755 */display: inline-block !important;position: relative;}#sk-container-id-3 div.sk-text-repr-fallback {display: none;}</style><div id=\"sk-container-id-3\" class=\"sk-top-container\"><div class=\"sk-text-repr-fallback\"><pre>GaussianNB()</pre><b>In a Jupyter environment, please rerun this cell to show the HTML representation or trust the notebook. <br />On GitHub, the HTML representation is unable to render, please try loading this page with nbviewer.org.</b></div><div class=\"sk-container\" hidden><div class=\"sk-item\"><div class=\"sk-estimator sk-toggleable\"><input class=\"sk-toggleable__control sk-hidden--visually\" id=\"sk-estimator-id-3\" type=\"checkbox\" checked><label for=\"sk-estimator-id-3\" class=\"sk-toggleable__label sk-toggleable__label-arrow\">GaussianNB</label><div class=\"sk-toggleable__content\"><pre>GaussianNB()</pre></div></div></div></div></div>"
            ]
          },
          "metadata": {},
          "execution_count": 26
>>>>>>> 464b187e0437fe401fe272709955b97f04a1353e
        }
      ],
      "source": [
        "# Train the classifier on the training data\n",
        "bayes.fit(X_train, y_train)"
      ]
    },
    {
      "cell_type": "code",
<<<<<<< HEAD
      "execution_count": null,
=======
      "execution_count": 27,
>>>>>>> 464b187e0437fe401fe272709955b97f04a1353e
      "metadata": {
        "id": "fLAuxzfYLRIU"
      },
      "outputs": [],
      "source": [
        "# Evaluate the classifier on the validation data\n",
        "score = bayes.score(X_val, y_val)"
      ]
    },
    {
      "cell_type": "code",
<<<<<<< HEAD
      "execution_count": null,
=======
      "execution_count": 28,
>>>>>>> 464b187e0437fe401fe272709955b97f04a1353e
      "metadata": {
        "colab": {
          "base_uri": "https://localhost:8080/"
        },
        "id": "cLKQGMVDLTk0",
<<<<<<< HEAD
        "outputId": "50aacb95-c3a3-4584-9b25-312d5270cf44"
=======
        "outputId": "3a10430e-cc10-47ff-c685-7af8687f7910"
>>>>>>> 464b187e0437fe401fe272709955b97f04a1353e
      },
      "outputs": [
        {
          "output_type": "stream",
          "name": "stdout",
          "text": [
<<<<<<< HEAD
            "Bayes accuracy: 0.883125\n"
=======
            "Bayes accuracy: 0.576\n"
>>>>>>> 464b187e0437fe401fe272709955b97f04a1353e
          ]
        }
      ],
      "source": [
        "# Print the accuracy score\n",
        "print('Bayes accuracy:', score)"
      ]
    },
    {
      "cell_type": "markdown",
<<<<<<< HEAD
      "metadata": {
        "id": "5xOfxRFMk_L_"
      },
      "source": [
        "##KNN"
      ]
    },
    {
      "cell_type": "code",
      "execution_count": null,
      "metadata": {
        "id": "rCz-vH8xk-g3"
      },
      "outputs": [],
      "source": [
        "# Create a KNN classifier with k=3\n",
        "knn = KNeighborsClassifier(n_neighbors=3)"
      ]
    },
    {
      "cell_type": "code",
      "execution_count": null,
=======
      "source": [
        "##KNN"
      ],
      "metadata": {
        "id": "5xOfxRFMk_L_"
      }
    },
    {
      "cell_type": "code",
      "source": [
        "# Create a KNN classifier with k=3\n",
        "knn = KNeighborsClassifier(n_neighbors=3)"
      ],
      "metadata": {
        "id": "rCz-vH8xk-g3"
      },
      "execution_count": 29,
      "outputs": []
    },
    {
      "cell_type": "code",
      "source": [
        "# Train the classifier on the training data\n",
        "knn.fit(X_train, y_train)"
      ],
>>>>>>> 464b187e0437fe401fe272709955b97f04a1353e
      "metadata": {
        "colab": {
          "base_uri": "https://localhost:8080/",
          "height": 75
        },
        "id": "YjomtTgglYk3",
<<<<<<< HEAD
        "outputId": "8f329c88-cc4a-4770-d8a8-bbfba08d9b32"
      },
=======
        "outputId": "08b9f1b3-06fb-4192-85b2-88435c4e92d6"
      },
      "execution_count": 30,
>>>>>>> 464b187e0437fe401fe272709955b97f04a1353e
      "outputs": [
        {
          "output_type": "execute_result",
          "data": {
            "text/plain": [
              "KNeighborsClassifier(n_neighbors=3)"
            ],
            "text/html": [
<<<<<<< HEAD
              "<style>#sk-container-id-3 {color: black;background-color: white;}#sk-container-id-3 pre{padding: 0;}#sk-container-id-3 div.sk-toggleable {background-color: white;}#sk-container-id-3 label.sk-toggleable__label {cursor: pointer;display: block;width: 100%;margin-bottom: 0;padding: 0.3em;box-sizing: border-box;text-align: center;}#sk-container-id-3 label.sk-toggleable__label-arrow:before {content: \"▸\";float: left;margin-right: 0.25em;color: #696969;}#sk-container-id-3 label.sk-toggleable__label-arrow:hover:before {color: black;}#sk-container-id-3 div.sk-estimator:hover label.sk-toggleable__label-arrow:before {color: black;}#sk-container-id-3 div.sk-toggleable__content {max-height: 0;max-width: 0;overflow: hidden;text-align: left;background-color: #f0f8ff;}#sk-container-id-3 div.sk-toggleable__content pre {margin: 0.2em;color: black;border-radius: 0.25em;background-color: #f0f8ff;}#sk-container-id-3 input.sk-toggleable__control:checked~div.sk-toggleable__content {max-height: 200px;max-width: 100%;overflow: auto;}#sk-container-id-3 input.sk-toggleable__control:checked~label.sk-toggleable__label-arrow:before {content: \"▾\";}#sk-container-id-3 div.sk-estimator input.sk-toggleable__control:checked~label.sk-toggleable__label {background-color: #d4ebff;}#sk-container-id-3 div.sk-label input.sk-toggleable__control:checked~label.sk-toggleable__label {background-color: #d4ebff;}#sk-container-id-3 input.sk-hidden--visually {border: 0;clip: rect(1px 1px 1px 1px);clip: rect(1px, 1px, 1px, 1px);height: 1px;margin: -1px;overflow: hidden;padding: 0;position: absolute;width: 1px;}#sk-container-id-3 div.sk-estimator {font-family: monospace;background-color: #f0f8ff;border: 1px dotted black;border-radius: 0.25em;box-sizing: border-box;margin-bottom: 0.5em;}#sk-container-id-3 div.sk-estimator:hover {background-color: #d4ebff;}#sk-container-id-3 div.sk-parallel-item::after {content: \"\";width: 100%;border-bottom: 1px solid gray;flex-grow: 1;}#sk-container-id-3 div.sk-label:hover label.sk-toggleable__label {background-color: #d4ebff;}#sk-container-id-3 div.sk-serial::before {content: \"\";position: absolute;border-left: 1px solid gray;box-sizing: border-box;top: 0;bottom: 0;left: 50%;z-index: 0;}#sk-container-id-3 div.sk-serial {display: flex;flex-direction: column;align-items: center;background-color: white;padding-right: 0.2em;padding-left: 0.2em;position: relative;}#sk-container-id-3 div.sk-item {position: relative;z-index: 1;}#sk-container-id-3 div.sk-parallel {display: flex;align-items: stretch;justify-content: center;background-color: white;position: relative;}#sk-container-id-3 div.sk-item::before, #sk-container-id-3 div.sk-parallel-item::before {content: \"\";position: absolute;border-left: 1px solid gray;box-sizing: border-box;top: 0;bottom: 0;left: 50%;z-index: -1;}#sk-container-id-3 div.sk-parallel-item {display: flex;flex-direction: column;z-index: 1;position: relative;background-color: white;}#sk-container-id-3 div.sk-parallel-item:first-child::after {align-self: flex-end;width: 50%;}#sk-container-id-3 div.sk-parallel-item:last-child::after {align-self: flex-start;width: 50%;}#sk-container-id-3 div.sk-parallel-item:only-child::after {width: 0;}#sk-container-id-3 div.sk-dashed-wrapped {border: 1px dashed gray;margin: 0 0.4em 0.5em 0.4em;box-sizing: border-box;padding-bottom: 0.4em;background-color: white;}#sk-container-id-3 div.sk-label label {font-family: monospace;font-weight: bold;display: inline-block;line-height: 1.2em;}#sk-container-id-3 div.sk-label-container {text-align: center;}#sk-container-id-3 div.sk-container {/* jupyter's `normalize.less` sets `[hidden] { display: none; }` but bootstrap.min.css set `[hidden] { display: none !important; }` so we also need the `!important` here to be able to override the default hidden behavior on the sphinx rendered scikit-learn.org. See: https://github.com/scikit-learn/scikit-learn/issues/21755 */display: inline-block !important;position: relative;}#sk-container-id-3 div.sk-text-repr-fallback {display: none;}</style><div id=\"sk-container-id-3\" class=\"sk-top-container\"><div class=\"sk-text-repr-fallback\"><pre>KNeighborsClassifier(n_neighbors=3)</pre><b>In a Jupyter environment, please rerun this cell to show the HTML representation or trust the notebook. <br />On GitHub, the HTML representation is unable to render, please try loading this page with nbviewer.org.</b></div><div class=\"sk-container\" hidden><div class=\"sk-item\"><div class=\"sk-estimator sk-toggleable\"><input class=\"sk-toggleable__control sk-hidden--visually\" id=\"sk-estimator-id-3\" type=\"checkbox\" checked><label for=\"sk-estimator-id-3\" class=\"sk-toggleable__label sk-toggleable__label-arrow\">KNeighborsClassifier</label><div class=\"sk-toggleable__content\"><pre>KNeighborsClassifier(n_neighbors=3)</pre></div></div></div></div></div>"
            ]
          },
          "metadata": {},
          "execution_count": 47
        }
      ],
      "source": [
        "# Train the classifier on the training data\n",
        "knn.fit(X_train, y_train)"
=======
              "<style>#sk-container-id-4 {color: black;background-color: white;}#sk-container-id-4 pre{padding: 0;}#sk-container-id-4 div.sk-toggleable {background-color: white;}#sk-container-id-4 label.sk-toggleable__label {cursor: pointer;display: block;width: 100%;margin-bottom: 0;padding: 0.3em;box-sizing: border-box;text-align: center;}#sk-container-id-4 label.sk-toggleable__label-arrow:before {content: \"▸\";float: left;margin-right: 0.25em;color: #696969;}#sk-container-id-4 label.sk-toggleable__label-arrow:hover:before {color: black;}#sk-container-id-4 div.sk-estimator:hover label.sk-toggleable__label-arrow:before {color: black;}#sk-container-id-4 div.sk-toggleable__content {max-height: 0;max-width: 0;overflow: hidden;text-align: left;background-color: #f0f8ff;}#sk-container-id-4 div.sk-toggleable__content pre {margin: 0.2em;color: black;border-radius: 0.25em;background-color: #f0f8ff;}#sk-container-id-4 input.sk-toggleable__control:checked~div.sk-toggleable__content {max-height: 200px;max-width: 100%;overflow: auto;}#sk-container-id-4 input.sk-toggleable__control:checked~label.sk-toggleable__label-arrow:before {content: \"▾\";}#sk-container-id-4 div.sk-estimator input.sk-toggleable__control:checked~label.sk-toggleable__label {background-color: #d4ebff;}#sk-container-id-4 div.sk-label input.sk-toggleable__control:checked~label.sk-toggleable__label {background-color: #d4ebff;}#sk-container-id-4 input.sk-hidden--visually {border: 0;clip: rect(1px 1px 1px 1px);clip: rect(1px, 1px, 1px, 1px);height: 1px;margin: -1px;overflow: hidden;padding: 0;position: absolute;width: 1px;}#sk-container-id-4 div.sk-estimator {font-family: monospace;background-color: #f0f8ff;border: 1px dotted black;border-radius: 0.25em;box-sizing: border-box;margin-bottom: 0.5em;}#sk-container-id-4 div.sk-estimator:hover {background-color: #d4ebff;}#sk-container-id-4 div.sk-parallel-item::after {content: \"\";width: 100%;border-bottom: 1px solid gray;flex-grow: 1;}#sk-container-id-4 div.sk-label:hover label.sk-toggleable__label {background-color: #d4ebff;}#sk-container-id-4 div.sk-serial::before {content: \"\";position: absolute;border-left: 1px solid gray;box-sizing: border-box;top: 0;bottom: 0;left: 50%;z-index: 0;}#sk-container-id-4 div.sk-serial {display: flex;flex-direction: column;align-items: center;background-color: white;padding-right: 0.2em;padding-left: 0.2em;position: relative;}#sk-container-id-4 div.sk-item {position: relative;z-index: 1;}#sk-container-id-4 div.sk-parallel {display: flex;align-items: stretch;justify-content: center;background-color: white;position: relative;}#sk-container-id-4 div.sk-item::before, #sk-container-id-4 div.sk-parallel-item::before {content: \"\";position: absolute;border-left: 1px solid gray;box-sizing: border-box;top: 0;bottom: 0;left: 50%;z-index: -1;}#sk-container-id-4 div.sk-parallel-item {display: flex;flex-direction: column;z-index: 1;position: relative;background-color: white;}#sk-container-id-4 div.sk-parallel-item:first-child::after {align-self: flex-end;width: 50%;}#sk-container-id-4 div.sk-parallel-item:last-child::after {align-self: flex-start;width: 50%;}#sk-container-id-4 div.sk-parallel-item:only-child::after {width: 0;}#sk-container-id-4 div.sk-dashed-wrapped {border: 1px dashed gray;margin: 0 0.4em 0.5em 0.4em;box-sizing: border-box;padding-bottom: 0.4em;background-color: white;}#sk-container-id-4 div.sk-label label {font-family: monospace;font-weight: bold;display: inline-block;line-height: 1.2em;}#sk-container-id-4 div.sk-label-container {text-align: center;}#sk-container-id-4 div.sk-container {/* jupyter's `normalize.less` sets `[hidden] { display: none; }` but bootstrap.min.css set `[hidden] { display: none !important; }` so we also need the `!important` here to be able to override the default hidden behavior on the sphinx rendered scikit-learn.org. See: https://github.com/scikit-learn/scikit-learn/issues/21755 */display: inline-block !important;position: relative;}#sk-container-id-4 div.sk-text-repr-fallback {display: none;}</style><div id=\"sk-container-id-4\" class=\"sk-top-container\"><div class=\"sk-text-repr-fallback\"><pre>KNeighborsClassifier(n_neighbors=3)</pre><b>In a Jupyter environment, please rerun this cell to show the HTML representation or trust the notebook. <br />On GitHub, the HTML representation is unable to render, please try loading this page with nbviewer.org.</b></div><div class=\"sk-container\" hidden><div class=\"sk-item\"><div class=\"sk-estimator sk-toggleable\"><input class=\"sk-toggleable__control sk-hidden--visually\" id=\"sk-estimator-id-4\" type=\"checkbox\" checked><label for=\"sk-estimator-id-4\" class=\"sk-toggleable__label sk-toggleable__label-arrow\">KNeighborsClassifier</label><div class=\"sk-toggleable__content\"><pre>KNeighborsClassifier(n_neighbors=3)</pre></div></div></div></div></div>"
            ]
          },
          "metadata": {},
          "execution_count": 30
        }
>>>>>>> 464b187e0437fe401fe272709955b97f04a1353e
      ]
    },
    {
      "cell_type": "code",
<<<<<<< HEAD
      "execution_count": null,
      "metadata": {
        "id": "GZynLUSOlcUs"
      },
      "outputs": [],
      "source": [
        "# Evaluate the classifier on the validation data\n",
        "score = knn.score(X_val, y_val)"
      ]
    },
    {
      "cell_type": "code",
      "execution_count": null,
=======
      "source": [
        "# Evaluate the classifier on the validation data\n",
        "score = knn.score(X_val, y_val)"
      ],
      "metadata": {
        "id": "GZynLUSOlcUs"
      },
      "execution_count": 31,
      "outputs": []
    },
    {
      "cell_type": "code",
      "source": [
        "# Print the accuracy score\n",
        "print('KNN accuracy:', score)"
      ],
>>>>>>> 464b187e0437fe401fe272709955b97f04a1353e
      "metadata": {
        "colab": {
          "base_uri": "https://localhost:8080/"
        },
        "id": "EvzH2teglfZ-",
<<<<<<< HEAD
        "outputId": "73c650b5-da48-425a-9e04-2ac06edf4465"
      },
=======
        "outputId": "9b223165-abe2-4ae9-9b6f-48a24d1ca699"
      },
      "execution_count": 32,
>>>>>>> 464b187e0437fe401fe272709955b97f04a1353e
      "outputs": [
        {
          "output_type": "stream",
          "name": "stdout",
          "text": [
<<<<<<< HEAD
            "KNN accuracy: 0.9646875\n"
          ]
        }
      ],
      "source": [
        "# Print the accuracy score\n",
        "print('KNN accuracy:', score)"
      ]
    },
    {
      "cell_type": "code",
      "execution_count": null,
      "metadata": {
        "colab": {
          "base_uri": "https://localhost:8080/",
          "height": 1000
        },
        "id": "a8m52kKe_7aX",
        "outputId": "7a5e6e1d-500d-4662-9cdf-4048a96bc1f1"
      },
      "outputs": [
        {
          "output_type": "stream",
          "name": "stdout",
          "text": [
            "[NbConvertApp] WARNING | pattern '/content/generativeModelsMNIST.ipynb' matched no files\n",
            "This application is used to convert notebook files (*.ipynb)\n",
            "        to various other formats.\n",
            "\n",
            "        WARNING: THE COMMANDLINE INTERFACE MAY CHANGE IN FUTURE RELEASES.\n",
            "\n",
            "Options\n",
            "=======\n",
            "The options below are convenience aliases to configurable class-options,\n",
            "as listed in the \"Equivalent to\" description-line of the aliases.\n",
            "To see all configurable class-options for some <cmd>, use:\n",
            "    <cmd> --help-all\n",
            "\n",
            "--debug\n",
            "    set log level to logging.DEBUG (maximize logging output)\n",
            "    Equivalent to: [--Application.log_level=10]\n",
            "--show-config\n",
            "    Show the application's configuration (human-readable format)\n",
            "    Equivalent to: [--Application.show_config=True]\n",
            "--show-config-json\n",
            "    Show the application's configuration (json format)\n",
            "    Equivalent to: [--Application.show_config_json=True]\n",
            "--generate-config\n",
            "    generate default config file\n",
            "    Equivalent to: [--JupyterApp.generate_config=True]\n",
            "-y\n",
            "    Answer yes to any questions instead of prompting.\n",
            "    Equivalent to: [--JupyterApp.answer_yes=True]\n",
            "--execute\n",
            "    Execute the notebook prior to export.\n",
            "    Equivalent to: [--ExecutePreprocessor.enabled=True]\n",
            "--allow-errors\n",
            "    Continue notebook execution even if one of the cells throws an error and include the error message in the cell output (the default behaviour is to abort conversion). This flag is only relevant if '--execute' was specified, too.\n",
            "    Equivalent to: [--ExecutePreprocessor.allow_errors=True]\n",
            "--stdin\n",
            "    read a single notebook file from stdin. Write the resulting notebook with default basename 'notebook.*'\n",
            "    Equivalent to: [--NbConvertApp.from_stdin=True]\n",
            "--stdout\n",
            "    Write notebook output to stdout instead of files.\n",
            "    Equivalent to: [--NbConvertApp.writer_class=StdoutWriter]\n",
            "--inplace\n",
            "    Run nbconvert in place, overwriting the existing notebook (only\n",
            "            relevant when converting to notebook format)\n",
            "    Equivalent to: [--NbConvertApp.use_output_suffix=False --NbConvertApp.export_format=notebook --FilesWriter.build_directory=]\n",
            "--clear-output\n",
            "    Clear output of current file and save in place,\n",
            "            overwriting the existing notebook.\n",
            "    Equivalent to: [--NbConvertApp.use_output_suffix=False --NbConvertApp.export_format=notebook --FilesWriter.build_directory= --ClearOutputPreprocessor.enabled=True]\n",
            "--no-prompt\n",
            "    Exclude input and output prompts from converted document.\n",
            "    Equivalent to: [--TemplateExporter.exclude_input_prompt=True --TemplateExporter.exclude_output_prompt=True]\n",
            "--no-input\n",
            "    Exclude input cells and output prompts from converted document.\n",
            "            This mode is ideal for generating code-free reports.\n",
            "    Equivalent to: [--TemplateExporter.exclude_output_prompt=True --TemplateExporter.exclude_input=True --TemplateExporter.exclude_input_prompt=True]\n",
            "--allow-chromium-download\n",
            "    Whether to allow downloading chromium if no suitable version is found on the system.\n",
            "    Equivalent to: [--WebPDFExporter.allow_chromium_download=True]\n",
            "--disable-chromium-sandbox\n",
            "    Disable chromium security sandbox when converting to PDF..\n",
            "    Equivalent to: [--WebPDFExporter.disable_sandbox=True]\n",
            "--show-input\n",
            "    Shows code input. This flag is only useful for dejavu users.\n",
            "    Equivalent to: [--TemplateExporter.exclude_input=False]\n",
            "--embed-images\n",
            "    Embed the images as base64 dataurls in the output. This flag is only useful for the HTML/WebPDF/Slides exports.\n",
            "    Equivalent to: [--HTMLExporter.embed_images=True]\n",
            "--sanitize-html\n",
            "    Whether the HTML in Markdown cells and cell outputs should be sanitized..\n",
            "    Equivalent to: [--HTMLExporter.sanitize_html=True]\n",
            "--log-level=<Enum>\n",
            "    Set the log level by value or name.\n",
            "    Choices: any of [0, 10, 20, 30, 40, 50, 'DEBUG', 'INFO', 'WARN', 'ERROR', 'CRITICAL']\n",
            "    Default: 30\n",
            "    Equivalent to: [--Application.log_level]\n",
            "--config=<Unicode>\n",
            "    Full path of a config file.\n",
            "    Default: ''\n",
            "    Equivalent to: [--JupyterApp.config_file]\n",
            "--to=<Unicode>\n",
            "    The export format to be used, either one of the built-in formats\n",
            "            ['asciidoc', 'custom', 'html', 'latex', 'markdown', 'notebook', 'pdf', 'python', 'rst', 'script', 'slides', 'webpdf']\n",
            "            or a dotted object name that represents the import path for an\n",
            "            ``Exporter`` class\n",
            "    Default: ''\n",
            "    Equivalent to: [--NbConvertApp.export_format]\n",
            "--template=<Unicode>\n",
            "    Name of the template to use\n",
            "    Default: ''\n",
            "    Equivalent to: [--TemplateExporter.template_name]\n",
            "--template-file=<Unicode>\n",
            "    Name of the template file to use\n",
            "    Default: None\n",
            "    Equivalent to: [--TemplateExporter.template_file]\n",
            "--theme=<Unicode>\n",
            "    Template specific theme(e.g. the name of a JupyterLab CSS theme distributed\n",
            "    as prebuilt extension for the lab template)\n",
            "    Default: 'light'\n",
            "    Equivalent to: [--HTMLExporter.theme]\n",
            "--sanitize_html=<Bool>\n",
            "    Whether the HTML in Markdown cells and cell outputs should be sanitized.This\n",
            "    should be set to True by nbviewer or similar tools.\n",
            "    Default: False\n",
            "    Equivalent to: [--HTMLExporter.sanitize_html]\n",
            "--writer=<DottedObjectName>\n",
            "    Writer class used to write the\n",
            "                                        results of the conversion\n",
            "    Default: 'FilesWriter'\n",
            "    Equivalent to: [--NbConvertApp.writer_class]\n",
            "--post=<DottedOrNone>\n",
            "    PostProcessor class used to write the\n",
            "                                        results of the conversion\n",
            "    Default: ''\n",
            "    Equivalent to: [--NbConvertApp.postprocessor_class]\n",
            "--output=<Unicode>\n",
            "    overwrite base name use for output files.\n",
            "                can only be used when converting one notebook at a time.\n",
            "    Default: ''\n",
            "    Equivalent to: [--NbConvertApp.output_base]\n",
            "--output-dir=<Unicode>\n",
            "    Directory to write output(s) to. Defaults\n",
            "                                  to output to the directory of each notebook. To recover\n",
            "                                  previous default behaviour (outputting to the current\n",
            "                                  working directory) use . as the flag value.\n",
            "    Default: ''\n",
            "    Equivalent to: [--FilesWriter.build_directory]\n",
            "--reveal-prefix=<Unicode>\n",
            "    The URL prefix for reveal.js (version 3.x).\n",
            "            This defaults to the reveal CDN, but can be any url pointing to a copy\n",
            "            of reveal.js.\n",
            "            For speaker notes to work, this must be a relative path to a local\n",
            "            copy of reveal.js: e.g., \"reveal.js\".\n",
            "            If a relative path is given, it must be a subdirectory of the\n",
            "            current directory (from which the server is run).\n",
            "            See the usage documentation\n",
            "            (https://nbconvert.readthedocs.io/en/latest/usage.html#reveal-js-html-slideshow)\n",
            "            for more details.\n",
            "    Default: ''\n",
            "    Equivalent to: [--SlidesExporter.reveal_url_prefix]\n",
            "--nbformat=<Enum>\n",
            "    The nbformat version to write.\n",
            "            Use this to downgrade notebooks.\n",
            "    Choices: any of [1, 2, 3, 4]\n",
            "    Default: 4\n",
            "    Equivalent to: [--NotebookExporter.nbformat_version]\n",
            "\n",
            "Examples\n",
            "--------\n",
            "\n",
            "    The simplest way to use nbconvert is\n",
            "\n",
            "            > jupyter nbconvert mynotebook.ipynb --to html\n",
            "\n",
            "            Options include ['asciidoc', 'custom', 'html', 'latex', 'markdown', 'notebook', 'pdf', 'python', 'rst', 'script', 'slides', 'webpdf'].\n",
            "\n",
            "            > jupyter nbconvert --to latex mynotebook.ipynb\n",
            "\n",
            "            Both HTML and LaTeX support multiple output templates. LaTeX includes\n",
            "            'base', 'article' and 'report'.  HTML includes 'basic', 'lab' and\n",
            "            'classic'. You can specify the flavor of the format used.\n",
            "\n",
            "            > jupyter nbconvert --to html --template lab mynotebook.ipynb\n",
            "\n",
            "            You can also pipe the output to stdout, rather than a file\n",
            "\n",
            "            > jupyter nbconvert mynotebook.ipynb --stdout\n",
            "\n",
            "            PDF is generated via latex\n",
            "\n",
            "            > jupyter nbconvert mynotebook.ipynb --to pdf\n",
            "\n",
            "            You can get (and serve) a Reveal.js-powered slideshow\n",
            "\n",
            "            > jupyter nbconvert myslides.ipynb --to slides --post serve\n",
            "\n",
            "            Multiple notebooks can be given at the command line in a couple of\n",
            "            different ways:\n",
            "\n",
            "            > jupyter nbconvert notebook*.ipynb\n",
            "            > jupyter nbconvert notebook1.ipynb notebook2.ipynb\n",
            "\n",
            "            or you can specify the notebooks list in a config file, containing::\n",
            "\n",
            "                c.NbConvertApp.notebooks = [\"my_notebook.ipynb\"]\n",
            "\n",
            "            > jupyter nbconvert --config mycfg.py\n",
            "\n",
            "To see all available configurables, use `--help-all`.\n",
            "\n"
          ]
        },
        {
          "output_type": "error",
          "ename": "CalledProcessError",
          "evalue": "ignored",
          "traceback": [
            "\u001b[0;31m---------------------------------------------------------------------------\u001b[0m",
            "\u001b[0;31mCalledProcessError\u001b[0m                        Traceback (most recent call last)",
            "\u001b[0;32m<ipython-input-50-6ea7c7ab4afa>\u001b[0m in \u001b[0;36m<module>\u001b[0;34m\u001b[0m\n\u001b[0;32m----> 1\u001b[0;31m \u001b[0mget_ipython\u001b[0m\u001b[0;34m(\u001b[0m\u001b[0;34m)\u001b[0m\u001b[0;34m.\u001b[0m\u001b[0mrun_cell_magic\u001b[0m\u001b[0;34m(\u001b[0m\u001b[0;34m'shell'\u001b[0m\u001b[0;34m,\u001b[0m \u001b[0;34m''\u001b[0m\u001b[0;34m,\u001b[0m \u001b[0;34m'jupyter nbconvert --to html /content/generativeModelsMNIST.ipynb\\n'\u001b[0m\u001b[0;34m)\u001b[0m\u001b[0;34m\u001b[0m\u001b[0;34m\u001b[0m\u001b[0m\n\u001b[0m",
            "\u001b[0;32m/usr/local/lib/python3.9/dist-packages/google/colab/_shell.py\u001b[0m in \u001b[0;36mrun_cell_magic\u001b[0;34m(self, magic_name, line, cell)\u001b[0m\n\u001b[1;32m    331\u001b[0m     \u001b[0;32mif\u001b[0m \u001b[0mline\u001b[0m \u001b[0;32mand\u001b[0m \u001b[0;32mnot\u001b[0m \u001b[0mcell\u001b[0m\u001b[0;34m:\u001b[0m\u001b[0;34m\u001b[0m\u001b[0;34m\u001b[0m\u001b[0m\n\u001b[1;32m    332\u001b[0m       \u001b[0mcell\u001b[0m \u001b[0;34m=\u001b[0m \u001b[0;34m' '\u001b[0m\u001b[0;34m\u001b[0m\u001b[0;34m\u001b[0m\u001b[0m\n\u001b[0;32m--> 333\u001b[0;31m     \u001b[0;32mreturn\u001b[0m \u001b[0msuper\u001b[0m\u001b[0;34m(\u001b[0m\u001b[0;34m)\u001b[0m\u001b[0;34m.\u001b[0m\u001b[0mrun_cell_magic\u001b[0m\u001b[0;34m(\u001b[0m\u001b[0mmagic_name\u001b[0m\u001b[0;34m,\u001b[0m \u001b[0mline\u001b[0m\u001b[0;34m,\u001b[0m \u001b[0mcell\u001b[0m\u001b[0;34m)\u001b[0m\u001b[0;34m\u001b[0m\u001b[0;34m\u001b[0m\u001b[0m\n\u001b[0m\u001b[1;32m    334\u001b[0m \u001b[0;34m\u001b[0m\u001b[0m\n\u001b[1;32m    335\u001b[0m \u001b[0;34m\u001b[0m\u001b[0m\n",
            "\u001b[0;32m/usr/local/lib/python3.9/dist-packages/IPython/core/interactiveshell.py\u001b[0m in \u001b[0;36mrun_cell_magic\u001b[0;34m(self, magic_name, line, cell)\u001b[0m\n\u001b[1;32m   2357\u001b[0m             \u001b[0;32mwith\u001b[0m \u001b[0mself\u001b[0m\u001b[0;34m.\u001b[0m\u001b[0mbuiltin_trap\u001b[0m\u001b[0;34m:\u001b[0m\u001b[0;34m\u001b[0m\u001b[0;34m\u001b[0m\u001b[0m\n\u001b[1;32m   2358\u001b[0m                 \u001b[0margs\u001b[0m \u001b[0;34m=\u001b[0m \u001b[0;34m(\u001b[0m\u001b[0mmagic_arg_s\u001b[0m\u001b[0;34m,\u001b[0m \u001b[0mcell\u001b[0m\u001b[0;34m)\u001b[0m\u001b[0;34m\u001b[0m\u001b[0;34m\u001b[0m\u001b[0m\n\u001b[0;32m-> 2359\u001b[0;31m                 \u001b[0mresult\u001b[0m \u001b[0;34m=\u001b[0m \u001b[0mfn\u001b[0m\u001b[0;34m(\u001b[0m\u001b[0;34m*\u001b[0m\u001b[0margs\u001b[0m\u001b[0;34m,\u001b[0m \u001b[0;34m**\u001b[0m\u001b[0mkwargs\u001b[0m\u001b[0;34m)\u001b[0m\u001b[0;34m\u001b[0m\u001b[0;34m\u001b[0m\u001b[0m\n\u001b[0m\u001b[1;32m   2360\u001b[0m             \u001b[0;32mreturn\u001b[0m \u001b[0mresult\u001b[0m\u001b[0;34m\u001b[0m\u001b[0;34m\u001b[0m\u001b[0m\n\u001b[1;32m   2361\u001b[0m \u001b[0;34m\u001b[0m\u001b[0m\n",
            "\u001b[0;32m/usr/local/lib/python3.9/dist-packages/google/colab/_system_commands.py\u001b[0m in \u001b[0;36m_shell_cell_magic\u001b[0;34m(args, cmd)\u001b[0m\n\u001b[1;32m    110\u001b[0m   \u001b[0mresult\u001b[0m \u001b[0;34m=\u001b[0m \u001b[0m_run_command\u001b[0m\u001b[0;34m(\u001b[0m\u001b[0mcmd\u001b[0m\u001b[0;34m,\u001b[0m \u001b[0mclear_streamed_output\u001b[0m\u001b[0;34m=\u001b[0m\u001b[0;32mFalse\u001b[0m\u001b[0;34m)\u001b[0m\u001b[0;34m\u001b[0m\u001b[0;34m\u001b[0m\u001b[0m\n\u001b[1;32m    111\u001b[0m   \u001b[0;32mif\u001b[0m \u001b[0;32mnot\u001b[0m \u001b[0mparsed_args\u001b[0m\u001b[0;34m.\u001b[0m\u001b[0mignore_errors\u001b[0m\u001b[0;34m:\u001b[0m\u001b[0;34m\u001b[0m\u001b[0;34m\u001b[0m\u001b[0m\n\u001b[0;32m--> 112\u001b[0;31m     \u001b[0mresult\u001b[0m\u001b[0;34m.\u001b[0m\u001b[0mcheck_returncode\u001b[0m\u001b[0;34m(\u001b[0m\u001b[0;34m)\u001b[0m\u001b[0;34m\u001b[0m\u001b[0;34m\u001b[0m\u001b[0m\n\u001b[0m\u001b[1;32m    113\u001b[0m   \u001b[0;32mreturn\u001b[0m \u001b[0mresult\u001b[0m\u001b[0;34m\u001b[0m\u001b[0;34m\u001b[0m\u001b[0m\n\u001b[1;32m    114\u001b[0m \u001b[0;34m\u001b[0m\u001b[0m\n",
            "\u001b[0;32m/usr/local/lib/python3.9/dist-packages/google/colab/_system_commands.py\u001b[0m in \u001b[0;36mcheck_returncode\u001b[0;34m(self)\u001b[0m\n\u001b[1;32m    135\u001b[0m   \u001b[0;32mdef\u001b[0m \u001b[0mcheck_returncode\u001b[0m\u001b[0;34m(\u001b[0m\u001b[0mself\u001b[0m\u001b[0;34m)\u001b[0m\u001b[0;34m:\u001b[0m\u001b[0;34m\u001b[0m\u001b[0;34m\u001b[0m\u001b[0m\n\u001b[1;32m    136\u001b[0m     \u001b[0;32mif\u001b[0m \u001b[0mself\u001b[0m\u001b[0;34m.\u001b[0m\u001b[0mreturncode\u001b[0m\u001b[0;34m:\u001b[0m\u001b[0;34m\u001b[0m\u001b[0;34m\u001b[0m\u001b[0m\n\u001b[0;32m--> 137\u001b[0;31m       raise subprocess.CalledProcessError(\n\u001b[0m\u001b[1;32m    138\u001b[0m           \u001b[0mreturncode\u001b[0m\u001b[0;34m=\u001b[0m\u001b[0mself\u001b[0m\u001b[0;34m.\u001b[0m\u001b[0mreturncode\u001b[0m\u001b[0;34m,\u001b[0m \u001b[0mcmd\u001b[0m\u001b[0;34m=\u001b[0m\u001b[0mself\u001b[0m\u001b[0;34m.\u001b[0m\u001b[0margs\u001b[0m\u001b[0;34m,\u001b[0m \u001b[0moutput\u001b[0m\u001b[0;34m=\u001b[0m\u001b[0mself\u001b[0m\u001b[0;34m.\u001b[0m\u001b[0moutput\u001b[0m\u001b[0;34m\u001b[0m\u001b[0;34m\u001b[0m\u001b[0m\n\u001b[1;32m    139\u001b[0m       )\n",
            "\u001b[0;31mCalledProcessError\u001b[0m: Command 'jupyter nbconvert --to html /content/generativeModelsMNIST.ipynb\n' returned non-zero exit status 255."
          ]
        }
      ],
      "source": [
        "%%shell\n",
        "jupyter nbconvert --to html /content/generativeModelsMNIST.ipynb"
      ]
    },
    {
      "cell_type": "markdown",
      "metadata": {
        "id": "fVsizRf9NXVn"
      },
      "source": []
=======
            "KNN accuracy: 0.95925\n"
          ]
        }
      ]
>>>>>>> 464b187e0437fe401fe272709955b97f04a1353e
    }
  ],
  "metadata": {
    "colab": {
      "provenance": []
    },
<<<<<<< HEAD
    "gpuClass": "standard",
=======
>>>>>>> 464b187e0437fe401fe272709955b97f04a1353e
    "kernelspec": {
      "display_name": "Python 3",
      "name": "python3"
    },
    "language_info": {
      "name": "python"
<<<<<<< HEAD
    }
=======
    },
    "gpuClass": "standard"
>>>>>>> 464b187e0437fe401fe272709955b97f04a1353e
  },
  "nbformat": 4,
  "nbformat_minor": 0
}